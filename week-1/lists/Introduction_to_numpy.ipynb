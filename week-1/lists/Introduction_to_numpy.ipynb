{
 "cells": [
  {
   "cell_type": "markdown",
   "metadata": {},
   "source": [
    "### Introduction To Numpy "
   ]
  },
  {
   "cell_type": "markdown",
   "metadata": {},
   "source": [
    "#### Wait... why am I learning this again? I already know lists!"
   ]
  },
  {
   "cell_type": "markdown",
   "metadata": {},
   "source": [
    "Untill now, we all know Python lists are powerful!\n",
    "<ul>\n",
    "    <li>They can hold collection of values</li>\n",
    "    <li>They can hold different types of data</li>\n",
    "    <li>We can change, add or remove the items inside of a list</li>\n",
    "    </ul>\n",
    "buttttt one important thing is missing.\n"
   ]
  },
  {
   "cell_type": "markdown",
   "metadata": {},
   "source": [
    "**the ability to perform a mathematical operation over *all* the items at the same time**"
   ]
  },
  {
   "cell_type": "markdown",
   "metadata": {},
   "source": [
    "Let's explore what I exactly mean by this.\n",
    "We have the heights and weights of my family members right here:"
   ]
  },
  {
   "cell_type": "code",
   "execution_count": 1,
   "metadata": {},
   "outputs": [],
   "source": [
    "heights = [1.73, 1.68, 1.79, 1.92, 1.50, 1.64]\n",
    "weights = [90.0, 71.0, 55.0, 67.0, 99.2, 69]"
   ]
  },
  {
   "cell_type": "markdown",
   "metadata": {},
   "source": [
    "If we want to calculate the BMI of each person, the fastest thing we hope that's gonna work would be the following:"
   ]
  },
  {
   "cell_type": "code",
   "execution_count": null,
   "metadata": {},
   "outputs": [],
   "source": [
    "weights/heights**2"
   ]
  },
  {
   "cell_type": "markdown",
   "metadata": {},
   "source": [
    "oh oh :( Python has no idea what we're talking about. well no worries, that's why we have **Numpy**!"
   ]
  },
  {
   "cell_type": "markdown",
   "metadata": {},
   "source": [
    "Numpy has its own array, which is an alternative for our regular Python lists. \n",
    "We simply call them **numpy arrays**\n"
   ]
  },
  {
   "cell_type": "markdown",
   "metadata": {},
   "source": [
    "[in case you haven't installed numpy, run the following cell]"
   ]
  },
  {
   "cell_type": "code",
   "execution_count": null,
   "metadata": {},
   "outputs": [],
   "source": [
    "!pip3 install numpy"
   ]
  },
  {
   "cell_type": "code",
   "execution_count": null,
   "metadata": {},
   "outputs": [],
   "source": [
    "import numpy as np"
   ]
  },
  {
   "cell_type": "markdown",
   "metadata": {},
   "source": [
    "Let's *convert* our previous lists into numpy arrays and see if we can perform the one-liner in line2!"
   ]
  },
  {
   "cell_type": "code",
   "execution_count": null,
   "metadata": {},
   "outputs": [],
   "source": [
    "heights_np = np.array(heights)\n",
    "heights_np"
   ]
  },
  {
   "cell_type": "code",
   "execution_count": null,
   "metadata": {},
   "outputs": [],
   "source": [
    "weights_np = np.array(weights)\n",
    "weights_np"
   ]
  },
  {
   "cell_type": "code",
   "execution_count": null,
   "metadata": {},
   "outputs": [],
   "source": [
    "weights_np/heights_np**2"
   ]
  },
  {
   "cell_type": "markdown",
   "metadata": {},
   "source": [
    "**Important Note : Numpy arrays can ONLY contain ONE data-type**"
   ]
  },
  {
   "cell_type": "markdown",
   "metadata": {},
   "source": [
    "##### Sum of two numpy arrays"
   ]
  },
  {
   "cell_type": "code",
   "execution_count": null,
   "metadata": {},
   "outputs": [],
   "source": []
  },
  {
   "cell_type": "markdown",
   "metadata": {},
   "source": [
    "##### Numpy Array Subsetting"
   ]
  },
  {
   "cell_type": "code",
   "execution_count": null,
   "metadata": {},
   "outputs": [],
   "source": []
  },
  {
   "cell_type": "markdown",
   "metadata": {},
   "source": [
    "#### Task "
   ]
  },
  {
   "cell_type": "markdown",
   "metadata": {},
   "source": [
    "A list baseball has already been defined in the Python script, representing the height of some baseball players in centimeters. Can you add some code here and there to create a numpy array from it?"
   ]
  },
  {
   "cell_type": "code",
   "execution_count": null,
   "metadata": {},
   "outputs": [],
   "source": [
    "# Create list baseball\n",
    "baseball = [180, 215, 210, 210, 188, 176, 209, 200]\n",
    "# Import the numpy package as np\n",
    "\n",
    "# Create a numpy array from baseball: np_baseball\n",
    "\n",
    "# Print out type of np_baseball\n"
   ]
  },
  {
   "cell_type": "code",
   "execution_count": null,
   "metadata": {},
   "outputs": [],
   "source": [
    "heights_in = [72, 74, 67, 69, 66, 68, 77, 70]\n",
    "# Create a numpy array from height_in: np_height_in\n",
    "\n",
    "# Print out np_height_in\n",
    "\n",
    "# Convert np_height_in to m: np_height_m\n",
    "#multiply by 0.0254\n",
    "\n",
    "# Print np_height_m\n"
   ]
  },
  {
   "cell_type": "markdown",
   "metadata": {},
   "source": [
    "Use np_height_m and np_weight to calculate the BMI of each player. Use the following equation:\n",
    "weight/height ** 2\n",
    "Save the resulting numpy array as bmi.\n",
    "Print out bmi."
   ]
  },
  {
   "cell_type": "code",
   "execution_count": null,
   "metadata": {},
   "outputs": [],
   "source": [
    "weights = [90.0, 71.0, 120.0, 97.0, 99.2, 100]\n",
    "\n",
    "# Calculate the BMI: bmi\n",
    "\n",
    "\n",
    "# Print out bmi"
   ]
  },
  {
   "cell_type": "markdown",
   "metadata": {},
   "source": [
    "**Take aways from this notebook;**\n",
    "\n",
    "- How to create numpy arrays\n",
    "- How to sum numpy arrays\n",
    "- How to use numpy arrays"
   ]
  }
 ],
 "metadata": {
  "kernelspec": {
   "display_name": "Python 3",
   "language": "python",
   "name": "python3"
  },
  "language_info": {
   "codemirror_mode": {
    "name": "ipython",
    "version": 3
   },
   "file_extension": ".py",
   "mimetype": "text/x-python",
   "name": "python",
   "nbconvert_exporter": "python",
   "pygments_lexer": "ipython3",
   "version": "3.7.3"
  }
 },
 "nbformat": 4,
 "nbformat_minor": 5
}
