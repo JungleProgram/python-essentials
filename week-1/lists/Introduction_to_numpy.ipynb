{
 "cells": [
  {
   "cell_type": "markdown",
   "metadata": {},
   "source": [
    "### Introduction To Numpy "
   ]
  },
  {
   "cell_type": "markdown",
   "metadata": {},
   "source": [
    "#### Wait... why am I learning this again? I already know lists!"
   ]
  },
  {
   "cell_type": "markdown",
   "metadata": {},
   "source": [
    "Untill now, we all know Python lists are powerful!\n",
    "<ul>\n",
    "    <li>They can hold collection of values</li>\n",
    "    <li>They can hold different types of data</li>\n",
    "    <li>We can change, add or remove the items inside of a list</li>\n",
    "    </ul>\n",
    "buttttt one important thing is missing.\n"
   ]
  },
  {
   "cell_type": "markdown",
   "metadata": {},
   "source": [
    "**the ability to perform a mathematical operation over *all* the items at the same time**"
   ]
  },
  {
   "cell_type": "markdown",
   "metadata": {},
   "source": [
    "Let's explore what I exactly mean by this.\n",
    "We have the heights and weights of my family members right here:"
   ]
  },
  {
   "cell_type": "code",
   "execution_count": null,
   "metadata": {},
   "outputs": [],
   "source": [
    "heights = [1.73, 1.68, 1.79, 1.92, 1.50, 1.64]\n",
    "weights = [90.0, 71.0, 55.0, 67.0, 99.2, 69]"
   ]
  },
  {
   "cell_type": "markdown",
   "metadata": {},
   "source": [
    "If we want to calculate the BMI of each person, the fastest thing we hope that's gonna work would be the following:"
   ]
  },
  {
   "cell_type": "code",
   "execution_count": null,
   "metadata": {},
   "outputs": [],
   "source": [
    "weights/heights**2"
   ]
  },
  {
   "cell_type": "markdown",
   "metadata": {},
   "source": [
    "oh oh :( Python has no idea what we're talking about. well no worries, that's why we have **Numpy**!"
   ]
  },
  {
   "cell_type": "markdown",
   "metadata": {},
   "source": [
    "Numpy has its own array, which is an alternative for our regular Python lists. \n",
    "We simply call them **numpy arrays**\n"
   ]
  },
  {
   "cell_type": "markdown",
   "metadata": {},
   "source": [
    "[in case you haven't installed numpy, run the following cell]"
   ]
  },
  {
   "cell_type": "code",
   "execution_count": null,
   "metadata": {},
   "outputs": [],
   "source": [
    "!pip3 install numpy"
   ]
  },
  {
   "cell_type": "code",
   "execution_count": null,
   "metadata": {},
   "outputs": [],
   "source": [
    "import numpy as np"
   ]
  },
  {
   "cell_type": "markdown",
   "metadata": {},
   "source": [
    "Let's *convert* our previous lists into numpy arrays and see if we can perform the one-liner in line2!"
   ]
  },
  {
   "cell_type": "code",
   "execution_count": null,
   "metadata": {},
   "outputs": [],
   "source": [
    "heights_np = np.array(heights)\n",
    "heights_np"
   ]
  },
  {
   "cell_type": "code",
   "execution_count": null,
   "metadata": {},
   "outputs": [],
   "source": [
    "weights_np = np.array(weights)\n",
    "weights_np"
   ]
  },
  {
   "cell_type": "code",
   "execution_count": null,
   "metadata": {},
   "outputs": [],
   "source": [
    "weights_np/heights_np**2"
   ]
  },
  {
   "cell_type": "markdown",
   "metadata": {},
   "source": [
    "**Important Note : Numpy arrays can ONLY contain ONE data-type**"
   ]
  },
  {
   "cell_type": "markdown",
   "metadata": {},
   "source": [
    "##### Sum of two numpy arrays"
   ]
  },
  {
   "cell_type": "code",
   "execution_count": null,
   "metadata": {},
   "outputs": [],
   "source": []
  },
  {
   "cell_type": "markdown",
   "metadata": {},
   "source": [
    "##### Numpy Array Subsetting"
   ]
  },
  {
   "cell_type": "code",
   "execution_count": null,
   "metadata": {},
   "outputs": [],
   "source": []
  },
  {
   "cell_type": "markdown",
   "metadata": {},
   "source": [
    "#### Task "
   ]
  },
  {
   "cell_type": "markdown",
   "metadata": {},
   "source": [
    "A list baseball has already been defined in the Python script, representing the height of some baseball players in centimeters. Can you add some code here and there to create a numpy array from it?"
   ]
  },
  {
   "cell_type": "code",
   "execution_count": null,
   "metadata": {},
   "outputs": [],
   "source": [
    "# Create list baseball\n",
    "baseball = [180, 215, 210, 210, 188, 176, 209, 200]\n",
    "# Import the numpy package as np\n",
    "\n",
    "# Create a numpy array from baseball: np_baseball\n",
    "\n",
    "# Print out type of np_baseball\n"
   ]
  },
  {
   "cell_type": "code",
   "execution_count": null,
   "metadata": {},
   "outputs": [],
   "source": [
    "heights_in = [72, 74, 67, 69, 66, 68, 77, 70]\n",
    "# Create a numpy array from height_in: np_height_in\n",
    "\n",
    "# Print out np_height_in\n",
    "\n",
    "# Convert np_height_in to m: np_height_m\n",
    "#multiply by 0.0254\n",
    "\n",
    "# Print np_height_m\n"
   ]
  },
  {
   "cell_type": "markdown",
   "metadata": {},
   "source": [
    "Use `np_height_m` and `np_weigh`t to calculate the **BMI** of each player. Use the following equation:\n",
    "`weight/height ** 2`\n",
    "\n",
    "Save the resulting numpy array as **bmi**.\n",
    "Print out bmi."
   ]
  },
  {
   "cell_type": "code",
   "execution_count": null,
   "metadata": {},
   "outputs": [],
   "source": [
    "weights = [90.0, 71.0, 120.0, 97.0, 99.2, 100]\n",
    "\n",
    "# Calculate the BMI: bmi\n",
    "\n",
    "\n",
    "# Print out bmi"
   ]
  },
  {
   "cell_type": "markdown",
   "metadata": {},
   "source": [
    "### 2-D Arrays"
   ]
  },
  {
   "cell_type": "markdown",
   "metadata": {},
   "source": [
    "Usually our data is made up of **columns** and **rows**, meaning our data is *multidimensional*"
   ]
  },
  {
   "cell_type": "code",
   "execution_count": null,
   "metadata": {},
   "outputs": [],
   "source": [
    "months = [1, 2, 3]\n",
    "prices = [238.11, 237.81, 238.91]"
   ]
  },
  {
   "cell_type": "code",
   "execution_count": null,
   "metadata": {},
   "outputs": [],
   "source": [
    "cpi_array = np.array([months, prices])"
   ]
  },
  {
   "cell_type": "code",
   "execution_count": null,
   "metadata": {},
   "outputs": [],
   "source": [
    "cpi_array"
   ]
  },
  {
   "cell_type": "markdown",
   "metadata": {},
   "source": [
    "Wait how do we index our array now??!"
   ]
  },
  {
   "cell_type": "markdown",
   "metadata": {},
   "source": [
    "**array[row_index, column_index]**"
   ]
  },
  {
   "cell_type": "code",
   "execution_count": null,
   "metadata": {},
   "outputs": [],
   "source": [
    "#Insert Your Code Here"
   ]
  },
  {
   "cell_type": "markdown",
   "metadata": {},
   "source": [
    "✨What do you think this slice represents? `cpi_array[:, 2]`"
   ]
  },
  {
   "cell_type": "markdown",
   "metadata": {},
   "source": [
    "Your Answer "
   ]
  },
  {
   "cell_type": "markdown",
   "metadata": {},
   "source": [
    "### Useful stuff we can do with numpy arrays"
   ]
  },
  {
   "cell_type": "markdown",
   "metadata": {},
   "source": [
    "- np.mean()\n",
    "- np.std()\n",
    "- np.arrange()\n",
    "- np.transpose() -> switches rows and columns\n",
    "***\n",
    "- np.shape\n",
    "- np.size"
   ]
  },
  {
   "cell_type": "markdown",
   "metadata": {},
   "source": [
    "**Question : what's the difference between `shape` and `size`?**"
   ]
  },
  {
   "cell_type": "code",
   "execution_count": null,
   "metadata": {},
   "outputs": [],
   "source": [
    "array = np.array([[1,2,3,4], [1230, 2445, 3455, 34656]])"
   ]
  },
  {
   "cell_type": "code",
   "execution_count": null,
   "metadata": {},
   "outputs": [],
   "source": [
    "array"
   ]
  },
  {
   "cell_type": "code",
   "execution_count": null,
   "metadata": {},
   "outputs": [],
   "source": [
    "array.shape"
   ]
  },
  {
   "cell_type": "code",
   "execution_count": null,
   "metadata": {},
   "outputs": [],
   "source": [
    "array.size"
   ]
  },
  {
   "cell_type": "markdown",
   "metadata": {},
   "source": [
    "✨**Task**\n",
    "\n",
    "We have two lists (months and earnings) in the following cell. perform the following steps in order:\n",
    "\n",
    "- Create a 2D array of months and earnings and store in `arr`\n",
    "- Print the shape of arr\n",
    "- Print the size of arr\n",
    "- Slice out the earnings and save it in `arr_earnings` (row 1, all values of columns)\n",
    "- Calculate the mean of earnings\n",
    "- Transpose arr and print it"
   ]
  },
  {
   "cell_type": "code",
   "execution_count": null,
   "metadata": {},
   "outputs": [],
   "source": [
    "months = [1,2,3,4,5]\n",
    "earnings = [3200, 5677, 8928, 1298, 2390]\n",
    "#Insert your code here \n"
   ]
  },
  {
   "cell_type": "markdown",
   "metadata": {},
   "source": [
    "**Take aways from this notebook;**\n",
    "\n",
    "- How to create numpy arrays\n",
    "- How to sum numpy arrays\n",
    "- How to use numpy arrays"
   ]
  },
  {
   "cell_type": "code",
   "execution_count": null,
   "metadata": {},
   "outputs": [],
   "source": []
  }
 ],
 "metadata": {
  "kernelspec": {
   "display_name": "Python 3",
   "language": "python",
   "name": "python3"
  },
  "language_info": {
   "codemirror_mode": {
    "name": "ipython",
    "version": 3
   },
   "file_extension": ".py",
   "mimetype": "text/x-python",
   "name": "python",
   "nbconvert_exporter": "python",
   "pygments_lexer": "ipython3",
   "version": "3.7.3"
  }
 },
 "nbformat": 4,
 "nbformat_minor": 5
}
