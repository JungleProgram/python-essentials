{
 "cells": [
  {
   "cell_type": "markdown",
   "metadata": {},
   "source": [
    "# Python Essentials For Data Science "
   ]
  },
  {
   "cell_type": "markdown",
   "metadata": {},
   "source": [
    "- Basic Calculations \n",
    "- Variables\n",
    "- Data Types\n",
    "- Exploring Jupyter \n",
    "- Conditionals \n",
    "- Conclusion "
   ]
  },
  {
   "cell_type": "markdown",
   "metadata": {},
   "source": [
    "## Basic Calculations "
   ]
  },
  {
   "cell_type": "markdown",
   "metadata": {},
   "source": [
    "We can do loads of different calculations in Python. We can use it as our advanced calculator."
   ]
  },
  {
   "cell_type": "code",
   "execution_count": null,
   "metadata": {},
   "outputs": [],
   "source": [
    "#add\n",
    "print(3+7)\n",
    "#subtract \n",
    "print(7-3)"
   ]
  },
  {
   "cell_type": "markdown",
   "metadata": {},
   "source": [
    "We can have division and multiplication as well!"
   ]
  },
  {
   "cell_type": "code",
   "execution_count": null,
   "metadata": {},
   "outputs": [],
   "source": [
    "#division \n",
    "print(8/4)\n",
    "#multiplication \n",
    "print(3*2)"
   ]
  },
  {
   "cell_type": "markdown",
   "metadata": {},
   "source": [
    "Python has an extra cool feature!\n",
    "We can calculate exponents right off the bat "
   ]
  },
  {
   "cell_type": "code",
   "execution_count": null,
   "metadata": {},
   "outputs": [],
   "source": [
    "3**2"
   ]
  },
  {
   "cell_type": "markdown",
   "metadata": {},
   "source": [
    "Another useful calulation to try is `modulo`"
   ]
  },
  {
   "cell_type": "code",
   "execution_count": null,
   "metadata": {},
   "outputs": [],
   "source": [
    "10%3"
   ]
  },
  {
   "cell_type": "markdown",
   "metadata": {},
   "source": [
    "## Variables "
   ]
  },
  {
   "cell_type": "markdown",
   "metadata": {},
   "source": [
    "Till now, we have only \"printed\" our results. But what if we wanted to **store** them? \n",
    "\n",
    "All programming languages have **variables** to solve this problem. \n"
   ]
  },
  {
   "cell_type": "code",
   "execution_count": null,
   "metadata": {},
   "outputs": [],
   "source": [
    "first_variable = 3**2"
   ]
  },
  {
   "cell_type": "markdown",
   "metadata": {},
   "source": [
    "`first_variable` is reusable! the result of **3 ** 2** (which is 9) is now stored in our memory somewhere. "
   ]
  },
  {
   "cell_type": "code",
   "execution_count": null,
   "metadata": {},
   "outputs": [],
   "source": [
    "from IPython import display\n",
    "display.Image(\"first-variable.png\")"
   ]
  },
  {
   "cell_type": "markdown",
   "metadata": {},
   "source": [
    "## Data Types "
   ]
  },
  {
   "cell_type": "markdown",
   "metadata": {},
   "source": [
    "Let's explore the most essential data types in Python"
   ]
  },
  {
   "cell_type": "markdown",
   "metadata": {},
   "source": [
    "pro-tip : whenever you want to check the data type of a variable, use the `type()` method!"
   ]
  },
  {
   "cell_type": "code",
   "execution_count": null,
   "metadata": {},
   "outputs": [],
   "source": [
    "type(2)"
   ]
  },
  {
   "cell_type": "code",
   "execution_count": null,
   "metadata": {},
   "outputs": [],
   "source": [
    "type(2.3)"
   ]
  },
  {
   "cell_type": "markdown",
   "metadata": {},
   "source": [
    "🤔we've seen this before today... where?"
   ]
  },
  {
   "cell_type": "code",
   "execution_count": null,
   "metadata": {},
   "outputs": [],
   "source": [
    "type('hello')"
   ]
  },
  {
   "cell_type": "code",
   "execution_count": null,
   "metadata": {},
   "outputs": [],
   "source": [
    "type([2,3,4])"
   ]
  },
  {
   "cell_type": "code",
   "execution_count": null,
   "metadata": {},
   "outputs": [],
   "source": [
    "type({2:2})"
   ]
  },
  {
   "cell_type": "code",
   "execution_count": null,
   "metadata": {},
   "outputs": [],
   "source": [
    "type(True)"
   ]
  },
  {
   "cell_type": "markdown",
   "metadata": {},
   "source": [
    "Okay cool, we got the basic stuff out of the way... but jupyter notebook is probably new for you! let's explore some things before we jump into `conditionals`"
   ]
  },
  {
   "cell_type": "markdown",
   "metadata": {},
   "source": [
    "## Exploring Jupyter "
   ]
  },
  {
   "cell_type": "markdown",
   "metadata": {},
   "source": [
    "### How to add, move and remove cells"
   ]
  },
  {
   "cell_type": "markdown",
   "metadata": {},
   "source": [
    "✨Try adding a code cell, and then a markdown cell yourself "
   ]
  },
  {
   "cell_type": "markdown",
   "metadata": {},
   "source": [
    "### Markdowns :\n",
    "https://jupyter-notebook.readthedocs.io/en/stable/examples/Notebook/Working%20With%20Markdown%20Cells.html"
   ]
  },
  {
   "cell_type": "markdown",
   "metadata": {},
   "source": [
    "### Helpful Features "
   ]
  },
  {
   "cell_type": "markdown",
   "metadata": {},
   "source": [
    "Jupyter Notebook has a generalized help function with the ? character. Let’s say you want to know what object type `first_variable` is. You can use the ? to get full documentation about it. "
   ]
  },
  {
   "cell_type": "code",
   "execution_count": null,
   "metadata": {},
   "outputs": [],
   "source": [
    "first_variable?"
   ]
  },
  {
   "cell_type": "markdown",
   "metadata": {},
   "source": [
    "✨ Try len and sum yourself now!"
   ]
  },
  {
   "cell_type": "markdown",
   "metadata": {},
   "source": [
    "## Conditionals "
   ]
  },
  {
   "cell_type": "markdown",
   "metadata": {},
   "source": [
    "- **Relational Operators**"
   ]
  },
  {
   "cell_type": "markdown",
   "metadata": {},
   "source": [
    "`!=` and `==`"
   ]
  },
  {
   "cell_type": "code",
   "execution_count": null,
   "metadata": {},
   "outputs": [],
   "source": [
    "#example\n",
    "32!=31"
   ]
  },
  {
   "cell_type": "code",
   "execution_count": null,
   "metadata": {},
   "outputs": [],
   "source": [
    "33==21"
   ]
  },
  {
   "cell_type": "markdown",
   "metadata": {},
   "source": [
    "- **If Statements**"
   ]
  },
  {
   "cell_type": "markdown",
   "metadata": {},
   "source": [
    "Let's translate the sentence \"If it rains then, wear a rain coat\", to Python!"
   ]
  },
  {
   "cell_type": "code",
   "execution_count": null,
   "metadata": {},
   "outputs": [],
   "source": [
    "#enter your code here\n",
    "raining = True \n",
    "if raining:\n",
    "    print(\"Wear a rain coat!\")"
   ]
  },
  {
   "cell_type": "markdown",
   "metadata": {},
   "source": [
    "`raining` -> boolean variable\n",
    "\n",
    "`:` -> then "
   ]
  },
  {
   "cell_type": "markdown",
   "metadata": {},
   "source": [
    "Reminder :\n",
    "\n",
    "`>`\n",
    "    \n",
    "`<`\n",
    "    \n",
    "`<=`\n",
    "    \n",
    "`>=`"
   ]
  },
  {
   "cell_type": "markdown",
   "metadata": {},
   "source": [
    "- **💡Age Control Task**"
   ]
  },
  {
   "cell_type": "markdown",
   "metadata": {},
   "source": [
    "Let's create a program which checks if a person's age is above 18 or not, because we wanna serve a bottle of delicious wine 🍷"
   ]
  },
  {
   "cell_type": "code",
   "execution_count": null,
   "metadata": {},
   "outputs": [],
   "source": [
    "#enter your code here \n",
    "age = 17\n",
    "if age>=18:\n",
    "    print(\"have a glass of wine!\")\n",
    "else:\n",
    "    print(\"Sorry no wine for you\")"
   ]
  },
  {
   "cell_type": "markdown",
   "metadata": {},
   "source": [
    "- **✨Loggin In Security Task**"
   ]
  },
  {
   "cell_type": "markdown",
   "metadata": {},
   "source": [
    "Step 1 : First create a variable called `user_name`.\n",
    "\n",
    "Step 2 : There’s this guy called *Brennan* that keeps trying to log in. Create an if statement that if the username is “Brennan”, it prints “Get off my computer!”\n",
    "\n",
    "Step 3 : Do the same with a guy called *Sam*."
   ]
  },
  {
   "cell_type": "code",
   "execution_count": null,
   "metadata": {},
   "outputs": [],
   "source": [
    "#enter your code here \n",
    "user_name = 'Brennan'\n",
    "if user_name == 'Brennan':\n",
    "    print(\"get off my computer\")\n",
    "user_name = 'Sam'\n",
    "if user_name == 'Sam':\n",
    "    print(\"get off my computer, Sam\")"
   ]
  },
  {
   "cell_type": "markdown",
   "metadata": {},
   "source": [
    "- **Boolean Operators**"
   ]
  },
  {
   "cell_type": "markdown",
   "metadata": {},
   "source": [
    "AND, OR, NOT "
   ]
  },
  {
   "cell_type": "markdown",
   "metadata": {},
   "source": [
    "The `and` oporator only evaluates as **True** when both of the boolean statements are **True**"
   ]
  },
  {
   "cell_type": "code",
   "execution_count": null,
   "metadata": {},
   "outputs": [],
   "source": [
    "(2==2)and(2!=3)"
   ]
  },
  {
   "cell_type": "code",
   "execution_count": null,
   "metadata": {},
   "outputs": [],
   "source": [
    "(2==2)and(2!=2)"
   ]
  },
  {
   "cell_type": "markdown",
   "metadata": {},
   "source": [
    "The `or` oporator evaluates as **True** when either of the boolean statements are **True**"
   ]
  },
  {
   "cell_type": "code",
   "execution_count": null,
   "metadata": {},
   "outputs": [],
   "source": [
    "(2==2)or(2!=2)"
   ]
  },
  {
   "cell_type": "markdown",
   "metadata": {},
   "source": [
    "The `not` oporator reverses the initial boolean statment "
   ]
  },
  {
   "cell_type": "code",
   "execution_count": null,
   "metadata": {},
   "outputs": [],
   "source": [
    "not(2==2)"
   ]
  },
  {
   "cell_type": "code",
   "execution_count": null,
   "metadata": {},
   "outputs": [],
   "source": [
    "not((2==2)and(2>1))"
   ]
  },
  {
   "cell_type": "markdown",
   "metadata": {},
   "source": [
    "- 💡**Health Matters Task**"
   ]
  },
  {
   "cell_type": "markdown",
   "metadata": {},
   "source": [
    "As you probably know, BMI is calculated via the following formula: "
   ]
  },
  {
   "cell_type": "markdown",
   "metadata": {},
   "source": [
    "$$\n",
    "BMI = \\frac{kg}{m^2}\n",
    "$$"
   ]
  },
  {
   "cell_type": "markdown",
   "metadata": {},
   "source": [
    "Step 1 : Create two variables named : `weight = 70` and `height = 1.8`\n",
    "\n",
    "Step 2 : Calculate the BMI of this person and store it in `bmi`\n",
    "\n",
    "Step 3 : If BMI is above or equal to 30, print **Obese**\n",
    "\n",
    "Step 4 : If BMI is less than 30 and more than or equal to 24, print **Overweight**\n",
    "\n",
    "Step 5 : If BMI is less than 24 and more than 18, print **Normal Weight**\n",
    "\n",
    "Step 6 : If BMI is less than or equal to 18 and, print **Under Weight**"
   ]
  },
  {
   "cell_type": "code",
   "execution_count": null,
   "metadata": {},
   "outputs": [],
   "source": [
    "#enter your code here\n",
    "weight = 70\n",
    "height = 1.8\n",
    "bmi = weight/height**2\n",
    "if bmi>=30:\n",
    "    print(\"Obese\")\n",
    "if bmi<30 and bmi>=24:\n",
    "    print(\"Overweight\")\n",
    "if bmi<24 and bmi>18: \n",
    "    print(\"Normal Weight\")\n",
    "if bmi<=18:\n",
    "    print(\"Underweight\")"
   ]
  },
  {
   "cell_type": "markdown",
   "metadata": {},
   "source": [
    "- **Else**"
   ]
  },
  {
   "cell_type": "markdown",
   "metadata": {},
   "source": [
    "Sometimes we want our program to perform a task even if the condition we have is not met. \n",
    "\n",
    "Let's try to expand the **age control task** \n",
    "We want to print `\"You are not above 18, sorry! no wine for you\"` if someone's age is below 18. "
   ]
  },
  {
   "cell_type": "code",
   "execution_count": null,
   "metadata": {},
   "outputs": [],
   "source": [
    "#code here"
   ]
  },
  {
   "cell_type": "markdown",
   "metadata": {},
   "source": [
    "- **Else If**"
   ]
  },
  {
   "cell_type": "markdown",
   "metadata": {},
   "source": [
    "For more complex problems, we need to consider more than one condition. take our **health matters task** for example. \n",
    "\n",
    "We have repetitive lines of code, it doesn't look prety. :(\n",
    "\n",
    "Thankfully Python has a solution for this. we can use `elif` in a huge `if/else` block and have multiple conditions \n",
    "Let's rewrite our previous task : \n"
   ]
  },
  {
   "cell_type": "code",
   "execution_count": null,
   "metadata": {},
   "outputs": [],
   "source": [
    "#code here\n",
    "if bmi>=30:\n",
    "    print(\"Obese\")\n",
    "elif bmi<30 and bmi>=24:\n",
    "    print(\"Overweight\")\n",
    "elif bmi<24 and bmi>18: \n",
    "    print(\"Normal Weight\")\n",
    "elif bmi<=18:\n",
    "    print(\"Underweight\")\n",
    "else:\n",
    "    print(\"something went wrong\")"
   ]
  },
  {
   "cell_type": "markdown",
   "metadata": {},
   "source": [
    "Before we get a bit deeper on the benefits of `elif` over multiple separate if statements, let's do another task together "
   ]
  },
  {
   "cell_type": "markdown",
   "metadata": {},
   "source": [
    "- **💡Rich Checker**\n"
   ]
  },
  {
   "cell_type": "markdown",
   "metadata": {},
   "source": [
    "Create a variable `net_worth`\n",
    "\n",
    "*Rules :*\n",
    "\n",
    "If someone has more than 100K -> Rich\n",
    "\n",
    "If someone has more than 70K -> Almost Rich\n",
    "\n",
    "If someone has more than 40K -> Medicore \n"
   ]
  },
  {
   "cell_type": "code",
   "execution_count": null,
   "metadata": {},
   "outputs": [],
   "source": [
    "net_worth = 230000\n",
    "if net_worth>100000:\n",
    "    print('rich')\n",
    "if net_worth>70000:\n",
    "    print(\"Almost Rich\")\n",
    "if net_worth>40000:\n",
    "    print(\"Medicore\")"
   ]
  },
  {
   "cell_type": "code",
   "execution_count": null,
   "metadata": {},
   "outputs": [],
   "source": [
    "net_worth = 45000\n",
    "if net_worth>100000:\n",
    "    print('rich')\n",
    "elif net_worth>70000:\n",
    "    print(\"Almost Rich\")\n",
    "elif net_worth>40000:\n",
    "    print(\"Medicore\")"
   ]
  },
  {
   "cell_type": "markdown",
   "metadata": {},
   "source": [
    "Now we can conclude that since we only need one output, `elif` is the way to go "
   ]
  },
  {
   "cell_type": "markdown",
   "metadata": {},
   "source": [
    "## Conclusion"
   ]
  },
  {
   "cell_type": "markdown",
   "metadata": {},
   "source": [
    "Today we've learned what Python is, how to do basic stuff with it.We also explored how to use Jupyter. Last but not least, we learned how to use conditionals effectively"
   ]
  },
  {
   "cell_type": "markdown",
   "metadata": {},
   "source": [
    "**Recap Task**"
   ]
  },
  {
   "cell_type": "markdown",
   "metadata": {},
   "source": [
    "Create a program which prints \"odd\" when a number is odd, and \"even\" when a number is even. "
   ]
  },
  {
   "cell_type": "code",
   "execution_count": null,
   "metadata": {},
   "outputs": [],
   "source": [
    "#enter your code here\n",
    "number = 30\n",
    "if number%2==0:\n",
    "    print(\"even\")\n",
    "elif number%2!=0:\n",
    "    print(\"odd\")\n",
    "else:\n",
    "    print(\"Something went wrong\")"
   ]
  }
 ],
 "metadata": {
  "kernelspec": {
   "display_name": "Python 3",
   "language": "python",
   "name": "python3"
  },
  "language_info": {
   "codemirror_mode": {
    "name": "ipython",
    "version": 3
   },
   "file_extension": ".py",
   "mimetype": "text/x-python",
   "name": "python",
   "nbconvert_exporter": "python",
   "pygments_lexer": "ipython3",
   "version": "3.7.3"
  }
 },
 "nbformat": 4,
 "nbformat_minor": 4
}
