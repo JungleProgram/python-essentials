{
 "cells": [
  {
   "cell_type": "markdown",
   "metadata": {},
   "source": [
    "This notebook contains 4 extra tasks you can solve about strings.\n",
    "\n",
    "They're rather *difficult*! If you're stuck, request a solution or a hint on our discord channel."
   ]
  },
  {
   "cell_type": "markdown",
   "metadata": {},
   "source": [
    "**✨Task 1**"
   ]
  },
  {
   "cell_type": "markdown",
   "metadata": {},
   "source": [
    "**Complete the solution so that it reverses all of the words within the string passed in.**\n"
   ]
  },
  {
   "cell_type": "markdown",
   "metadata": {},
   "source": [
    "Example :\n",
    "    \n",
    "    \"The greatest victory is that which requires no battle\" --> \"battle no requires which that is victory greatest The\"\n"
   ]
  },
  {
   "cell_type": "markdown",
   "metadata": {},
   "source": [
    "💡*hint : you can use the following:*\n",
    "        "
   ]
  },
  {
   "cell_type": "markdown",
   "metadata": {},
   "source": [
    "- join( )\n",
    "- split( )\n",
    "- string indexing\n",
    "- reverse( )"
   ]
  },
  {
   "cell_type": "code",
   "execution_count": null,
   "metadata": {},
   "outputs": [],
   "source": [
    "def reverse_words(string):\n",
    "    #your code here\n",
    "    pass\n",
    "    "
   ]
  },
  {
   "cell_type": "code",
   "execution_count": null,
   "metadata": {},
   "outputs": [],
   "source": [
    "def checker():\n",
    "    assert reverse_words(\"I'm a funny person\")==\"person funny a I'm\", \"something went wrong with your function\"\n",
    "    assert reverse_words(\"The greatest victory is that which requires no battle\")==\"battle no requires which that is victory greatest The\"\n",
    "    print('Success! 🎉')\n",
    "checker()"
   ]
  },
  {
   "cell_type": "markdown",
   "metadata": {},
   "source": [
    "**✨Task 2**"
   ]
  },
  {
   "cell_type": "markdown",
   "metadata": {},
   "source": [
    "Return the number (count) of vowels in the given string.\n",
    "\n",
    "We will consider `a, e, i, o, u` as vowels for this task (but not y).\n",
    "\n",
    "The input string will only consist of lower case letters and/or spaces."
   ]
  },
  {
   "cell_type": "code",
   "execution_count": null,
   "metadata": {},
   "outputs": [],
   "source": [
    "def vowel_checker(string):\n",
    "    #your code here\n",
    "    pass"
   ]
  },
  {
   "cell_type": "code",
   "execution_count": null,
   "metadata": {},
   "outputs": [],
   "source": [
    "def checker():\n",
    "    assert vowel_checker(\"this is a sentence\")==6, \"did you create your for loop correctly?\"\n",
    "    assert vowel_checker(\"this is a ysentence\")==6, \"Make sure to not include y as a vowel\"\n",
    "    assert vowel_checker(\"miowowow\")==4\n",
    "    print('Success! 🎉')\n",
    "checker()"
   ]
  },
  {
   "cell_type": "markdown",
   "metadata": {},
   "source": [
    "**✨Task 3**"
   ]
  },
  {
   "cell_type": "markdown",
   "metadata": {},
   "source": [
    "Oh no, Timmy's created an infinite loop! Help Timmy find and fix the bug in his unfinished for loop!"
   ]
  },
  {
   "cell_type": "code",
   "execution_count": null,
   "metadata": {},
   "outputs": [],
   "source": [
    "def create_array(n):\n",
    "    res=[]\n",
    "    i=1\n",
    "    while i<=n:\n",
    "        res+=[i]\n",
    "    return res"
   ]
  },
  {
   "cell_type": "code",
   "execution_count": null,
   "metadata": {},
   "outputs": [],
   "source": [
    "def checker():\n",
    "    assert create_array(3)==[1,2,3],\"doesn't seem like you've solved the problem!\"\n",
    "    assert create_array(4)==[1,2,3,4], \"did you put the correct value for i?\"\n",
    "    assert create_array(5)==[1,2,3,4,5]\n",
    "    assert create_array(6)==[1,2,3,4,5,6]\n",
    "    print('Success! 🎉')\n",
    "checker()"
   ]
  },
  {
   "cell_type": "markdown",
   "metadata": {},
   "source": [
    "**✨Task 4**"
   ]
  },
  {
   "cell_type": "markdown",
   "metadata": {},
   "source": [
    "**Your task is to remove all duplicate words from a string, leaving only single (first) words entries.**\n",
    "\n",
    "    Example:\n",
    "\n",
    "    Input:\n",
    "\n",
    "    'alpha beta beta gamma gamma gamma delta alpha beta beta gamma gamma gamma delta'\n",
    "\n",
    "    Output:\n",
    "\n",
    "    'alpha beta gamma delta'"
   ]
  },
  {
   "cell_type": "code",
   "execution_count": null,
   "metadata": {},
   "outputs": [],
   "source": [
    "def remove_duplicate_words(string):\n",
    "    pass"
   ]
  },
  {
   "cell_type": "code",
   "execution_count": null,
   "metadata": {},
   "outputs": [],
   "source": [
    "def checker():\n",
    "    res_alpha = remove_duplicate_words(\"alpha beta beta gamma gamma gamma delta alpha beta beta gamma gamma gamma delta\")\n",
    "    assert res_alpha ==\"alpha beta gamma delta\",\"Your function returned \" + str(res_alpha) + \" instead of 'alpha beta gamma delta'\"\n",
    "    res_cat = remove_duplicate_words(\"my cat is my cat fat\")\n",
    "    assert res_cat == \"my cat is fat\", \"Your function returned \" + str(res_cat) + \" instead of 'my cat is fat'\"\n",
    "    print('Success! 🎉')\n",
    "checker()\n"
   ]
  },
  {
   "cell_type": "code",
   "execution_count": null,
   "metadata": {},
   "outputs": [],
   "source": []
  }
 ],
 "metadata": {
  "kernelspec": {
   "display_name": "Python 3",
   "language": "python",
   "name": "python3"
  },
  "language_info": {
   "codemirror_mode": {
    "name": "ipython",
    "version": 3
   },
   "file_extension": ".py",
   "mimetype": "text/x-python",
   "name": "python",
   "nbconvert_exporter": "python",
   "pygments_lexer": "ipython3",
   "version": "3.7.3"
  }
 },
 "nbformat": 4,
 "nbformat_minor": 4
}
