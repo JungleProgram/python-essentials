{
 "cells": [
  {
   "cell_type": "markdown",
   "metadata": {},
   "source": [
    "## Final Project - Dice Game Of Chance "
   ]
  },
  {
   "cell_type": "markdown",
   "metadata": {},
   "source": [
    "\n",
    "The project starts by importing the random module. Every game of chance will involve generating a random number.\n",
    "\n",
    "For example, to generate a random between 1 and 10 (inclusive) and store it in a variable named num, use this line of code:"
   ]
  },
  {
   "cell_type": "code",
   "execution_count": null,
   "metadata": {},
   "outputs": [],
   "source": [
    "num = random.randint(1, 10)"
   ]
  },
  {
   "cell_type": "markdown",
   "metadata": {},
   "source": [
    "\n",
    "The project starts by importing the random module. Every game of chance will involve generating a random number.\n",
    "\n",
    "For example, to generate a random between 1 and 10 (inclusive) and store it in a variable named num, use this line of code:\n",
    "\n",
    "num = random.randint(1, 10)\n",
    "The project also has a variable named money that starts at 100. This represents your current amount of money. In every game of chance, you will be able to bet money. The value of money should change depending on whether you win or lose the game."
   ]
  },
  {
   "cell_type": "code",
   "execution_count": null,
   "metadata": {},
   "outputs": [],
   "source": [
    "import random\n",
    "\n",
    "money = 100\n",
    "\n",
    "#Write your game of chance functions here\n",
    "\n",
    "\n",
    "\n",
    "\n",
    "\n",
    "\n",
    "#Call your game of chance functions here\n"
   ]
  },
  {
   "cell_type": "markdown",
   "metadata": {},
   "source": [
    "\n",
    "Create a function that simulates flipping a coin and calling either \"Heads\" or \"Tails\". This function (along with all of the other functions you will write in this project) should have a parameter that represents how much the player is betting on the coin flip.\n",
    "\n",
    "This function should also have a parameter that lets the player call either \"Heads\" or \"Tails\".\n",
    "\n",
    "If the player wins the game, the function should return the amount that they won. If the player loses the game, the function should return the amount that they lost as a negative number."
   ]
  },
  {
   "cell_type": "code",
   "execution_count": null,
   "metadata": {},
   "outputs": [],
   "source": [
    "#insert your function here"
   ]
  },
  {
   "cell_type": "markdown",
   "metadata": {},
   "source": [
    "Create a function which simulates rolling two dice and adds the results together. The player predicts whether the sum of those dice is odd or even and wins if their prediction is correct.\n",
    "\n",
    "The function should have a parameter that allows for the player to guess whether the sum of the two dice is \"Odd\" or \"Even\". The function should also have a parameter that allows the player to bet an amount of money on the game."
   ]
  },
  {
   "cell_type": "code",
   "execution_count": null,
   "metadata": {},
   "outputs": [],
   "source": [
    "#insert your function here"
   ]
  },
  {
   "cell_type": "markdown",
   "metadata": {},
   "source": [
    "Create a function that simulates two players picking a card randomly from a deck of cards. The higher number wins.\n",
    "\n",
    "Once again, this function should have a parameter that allows a player to bet an amount of money on whether they have a higher card. In this game, there can be a tie. What should be returned if there is a tie?"
   ]
  },
  {
   "cell_type": "code",
   "execution_count": null,
   "metadata": {},
   "outputs": [],
   "source": [
    "#insert your function here"
   ]
  },
  {
   "cell_type": "markdown",
   "metadata": {},
   "source": [
    "Call each of your functions at least once. Below is an example of betting $10 on a coin flip and updating the amount of money you have based on whether you win or lose :\n"
   ]
  },
  {
   "cell_type": "code",
   "execution_count": null,
   "metadata": {},
   "outputs": [],
   "source": [
    "money += coin_flip(\"Heads\", 10)"
   ]
  },
  {
   "cell_type": "code",
   "execution_count": null,
   "metadata": {},
   "outputs": [],
   "source": [
    "#insert your function calls here"
   ]
  }
 ],
 "metadata": {
  "kernelspec": {
   "display_name": "Python 3",
   "language": "python",
   "name": "python3"
  },
  "language_info": {
   "codemirror_mode": {
    "name": "ipython",
    "version": 3
   },
   "file_extension": ".py",
   "mimetype": "text/x-python",
   "name": "python",
   "nbconvert_exporter": "python",
   "pygments_lexer": "ipython3",
   "version": "3.7.3"
  }
 },
 "nbformat": 4,
 "nbformat_minor": 4
}
