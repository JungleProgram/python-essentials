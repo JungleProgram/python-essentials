{
 "cells": [
  {
   "cell_type": "markdown",
   "metadata": {},
   "source": [
    "Hi there! You've completed 3 weeks of extensive Python magic.\n",
    "\n",
    "I hope after finishing this homework, you realize how far you've come in your journey towards data science.\n",
    "\n",
    "This notebook contains **5 essential tasks** and **5 bonus tasks**, which are additional and are not mandatory for you to finish. [although it'd be really cool if you did]"
   ]
  },
  {
   "cell_type": "markdown",
   "metadata": {},
   "source": [
    "## Homework 3 "
   ]
  },
  {
   "cell_type": "markdown",
   "metadata": {},
   "source": [
    "✨**Task 1**"
   ]
  },
  {
   "cell_type": "markdown",
   "metadata": {},
   "source": [
    "Create two lists called names and ages with the following data:"
   ]
  },
  {
   "cell_type": "markdown",
   "metadata": {},
   "source": [
    "    names\t    ages\n",
    "\n",
    "    Marina\t    27\n",
    "\n",
    "    Vinay\t     24\n",
    "\n",
    "    Connie\t    43\n",
    "\n",
    "    Isaac\t     35\n",
    "\n",
    "    Valentine     52"
   ]
  },
  {
   "cell_type": "code",
   "execution_count": null,
   "metadata": {},
   "outputs": [],
   "source": [
    "#insert your code here"
   ]
  },
  {
   "cell_type": "code",
   "execution_count": null,
   "metadata": {},
   "outputs": [],
   "source": [
    "def checker():\n",
    "    assert names == [\"Marina\", \"Vinay\", \"Connie\", \"Isaac\", \"Valentine\"], \"Your `names` list is not correct\"\n",
    "    print('Success! 🎉 Your names list has been succefully created')\n",
    "    assert ages == [27, 24, 43, 35, 52], \"Your `ages` list doesn't look right.\"\n",
    "    print('Success! 🎉 Your ages list has been succefully created')\n",
    "checker()"
   ]
  },
  {
   "cell_type": "markdown",
   "metadata": {},
   "source": [
    "***"
   ]
  },
  {
   "cell_type": "markdown",
   "metadata": {},
   "source": [
    "✨**Task 2**"
   ]
  },
  {
   "cell_type": "markdown",
   "metadata": {},
   "source": [
    "Create a dictionary called `names_to_ages` by using a list comprehension that iterates through `zip(names, ages)` ages and turns each pair into a **key : value** item."
   ]
  },
  {
   "cell_type": "code",
   "execution_count": null,
   "metadata": {},
   "outputs": [],
   "source": [
    "#insert your code here"
   ]
  },
  {
   "cell_type": "code",
   "execution_count": null,
   "metadata": {},
   "outputs": [],
   "source": [
    "def checker():\n",
    "    assert names_to_ages == {'Marina': 27, 'Vinay': 24, 'Connie': 43, 'Isaac': 35, 'Valentine': 52}, \"Your dictionary has not been succefully created\"\n",
    "    if names_to_ages == {27:'Marina', 24:'Vinay', 43:'Connie' , 35:'Isaac', 52:'Valentine'}:\n",
    "        print(\"You probably have zipped the lists in the wrong order. check again\")\n",
    "    print('Success! 🎉')\n",
    "checker()"
   ]
  },
  {
   "cell_type": "markdown",
   "metadata": {},
   "source": [
    "***"
   ]
  },
  {
   "cell_type": "markdown",
   "metadata": {},
   "source": [
    "✨**Task 3**"
   ]
  },
  {
   "cell_type": "markdown",
   "metadata": {},
   "source": [
    "\n",
    "You notice that Vinay’s insurance cost was incorrectly inputted. Update the value associated with Vinay to 3325.0.\n"
   ]
  },
  {
   "cell_type": "code",
   "execution_count": null,
   "metadata": {},
   "outputs": [],
   "source": [
    "#insert your code here"
   ]
  },
  {
   "cell_type": "code",
   "execution_count": null,
   "metadata": {},
   "outputs": [],
   "source": [
    "def checker():\n",
    "    assert names_to_ages['Vinay']==3325.0, \"You have not changed the value of 'Vinay' Correctly.\"\n",
    "    print('Success! 🎉')\n",
    "checker()"
   ]
  },
  {
   "cell_type": "markdown",
   "metadata": {},
   "source": [
    "***"
   ]
  },
  {
   "cell_type": "markdown",
   "metadata": {},
   "source": [
    "✨**Task 4**"
   ]
  },
  {
   "cell_type": "markdown",
   "metadata": {},
   "source": [
    "- Let’s calculate the average age of each patient. Create a variable called `total_age` and set it equal to 0.\n",
    "\n",
    "- Next, iterate through the values in `names_to_ages` and add each value to the `total_age` variable."
   ]
  },
  {
   "cell_type": "markdown",
   "metadata": {},
   "source": [
    "- After the loop, create a variable called `average_age` that stores the `total_age` divided by the length of the `names_to_ages` dictionary.\n",
    "\n"
   ]
  },
  {
   "cell_type": "code",
   "execution_count": null,
   "metadata": {},
   "outputs": [],
   "source": [
    "#insert your code here"
   ]
  },
  {
   "cell_type": "code",
   "execution_count": null,
   "metadata": {},
   "outputs": [],
   "source": [
    "def checker():\n",
    "    assert total_age == 181, \"Your total_age variable doesn't look right. it should be 181 but it's {total_age}\"\n",
    "    print('Success! 🎉')\n",
    "    assert average_age==36.2, \"Your average_age variable doesn't look right. it should be 36.2 but it's {average_age}\"\n",
    "    print('Success! 🎉')\n",
    "checker()"
   ]
  },
  {
   "cell_type": "markdown",
   "metadata": {},
   "source": [
    "***"
   ]
  },
  {
   "cell_type": "markdown",
   "metadata": {},
   "source": [
    "✨**Task 5**"
   ]
  },
  {
   "cell_type": "markdown",
   "metadata": {},
   "source": [
    "\n",
    "Use `.get()` to get the value of Marina’s age and store it in a variable called `marina_age`. Use None as a default value if the key doesn’t exist.\n",
    "\n",
    "Print `marina_age` with the following message:\n",
    "\n",
    "    Marina's age is {marina_age}"
   ]
  },
  {
   "cell_type": "code",
   "execution_count": null,
   "metadata": {},
   "outputs": [],
   "source": [
    "#insert your code here"
   ]
  },
  {
   "cell_type": "code",
   "execution_count": null,
   "metadata": {},
   "outputs": [],
   "source": [
    "def checker():\n",
    "    assert marina_age==27, \"Your variable must have had the value 27, but has the value {marina_age}\"\n",
    "    print('Success! 🎉')\n",
    "checker()"
   ]
  },
  {
   "cell_type": "markdown",
   "metadata": {},
   "source": [
    "### Bonus Tasks"
   ]
  },
  {
   "cell_type": "markdown",
   "metadata": {},
   "source": [
    "✨**Task 6**"
   ]
  },
  {
   "cell_type": "markdown",
   "metadata": {},
   "source": [
    "We would like to keep a record of medical patients and their insurance costs.\n",
    "\n",
    "First, create an empty dictionary called `medical_costs`."
   ]
  },
  {
   "cell_type": "code",
   "execution_count": null,
   "metadata": {},
   "outputs": [],
   "source": [
    "#insert your code heremedical_costs\n",
    "medical_costs = {}"
   ]
  },
  {
   "cell_type": "code",
   "execution_count": null,
   "metadata": {},
   "outputs": [],
   "source": [
    "def checker():\n",
    "    assert 'medical_costs' in globals(), \"medical costs still doesn't exist\"\n",
    "    print('Success! 🎉')\n",
    "    type_check = type(medical_costs)\n",
    "    assert type_check==dict, print(\"The type of medical_costs should be a dict but it's a {type_check} instead\".format(type_check=type_check))\n",
    "    print('Success! 🎉')\n",
    "checker()"
   ]
  },
  {
   "cell_type": "markdown",
   "metadata": {},
   "source": [
    "***"
   ]
  },
  {
   "cell_type": "markdown",
   "metadata": {},
   "source": [
    "✨**Task 7**"
   ]
  },
  {
   "cell_type": "markdown",
   "metadata": {},
   "source": [
    "Next, add `Marina` to `medical_records` as a key with the value being a **dictionary of medical data**:\n",
    "\n",
    "**Note : As we discussed anything can be set as a dictionary's value. So a dictionary can have another dictionary as its value**"
   ]
  },
  {
   "cell_type": "code",
   "execution_count": null,
   "metadata": {},
   "outputs": [],
   "source": [
    "{\"Age\": 27, \"Sex\": \"Female\", \"BMI\": 31.1, \"Children\": 2, \"Smoker\": \"Non-smoker\", \"Insurance_cost\": 6607.0}"
   ]
  },
  {
   "cell_type": "code",
   "execution_count": null,
   "metadata": {},
   "outputs": [],
   "source": [
    "#insert your code here"
   ]
  },
  {
   "cell_type": "code",
   "execution_count": null,
   "metadata": {},
   "outputs": [],
   "source": [
    "def checker():\n",
    "    assert medical_costs == {\"Marina\": {\"Age\": 27, \"Sex\": \"Female\", \"BMI\": 31.1, \"Children\": 2, \"Smoker\": \"Non-smoker\", \"Insurance_cost\": 6607.0}}, \"You have not added marina's info to our dictionary\"\n",
    "    print('Success! 🎉')\n",
    "    print(medical_costs)\n",
    "checker()"
   ]
  },
  {
   "cell_type": "markdown",
   "metadata": {},
   "source": [
    "***"
   ]
  },
  {
   "cell_type": "markdown",
   "metadata": {},
   "source": [
    "✨**Task 8**"
   ]
  },
  {
   "cell_type": "markdown",
   "metadata": {},
   "source": [
    "Add the rest of our customers like you did with `Marina`.\n",
    "\n",
    "Their name as the *key* to our dictionary and their information as the *value*."
   ]
  },
  {
   "cell_type": "code",
   "execution_count": null,
   "metadata": {},
   "outputs": [],
   "source": [
    "#Vinay's data\n",
    "{\"Age\":24, \"Sex\":\"Male\", \"BMI\": 26.9, \"Children\":0, \"Smoker\":\"Non-smoker\",\"Insurance_cost\":3225.0}\n",
    "#Connie's data\n",
    "{\"Age\":43, \"Sex\":\"Female\", \"BMI\": 25.3, \"Children\":3, \"Smoker\":\"Non-smoker\",\"Insurance_cost\":8886.0}\n",
    "#Isaac's data\n",
    "{\"Age\":35, \"Sex\":\"Male\", \"BMI\": 20.6, \"Children\":4, \"Smoker\":\"Smoker\",\"Insurance_cost\":16444.0}\n",
    "#Valentina's data\n",
    "{\"Age\":52, \"Sex\":\"Female\", \"BMI\": 18.7, \"Children\":1, \"Smoker\":\"Non-smoker\",\"Insurance_cost\":6420.0}"
   ]
  },
  {
   "cell_type": "code",
   "execution_count": null,
   "metadata": {},
   "outputs": [],
   "source": [
    "#insert your code here                    "
   ]
  },
  {
   "cell_type": "code",
   "execution_count": null,
   "metadata": {},
   "outputs": [],
   "source": [
    "def checker():\n",
    "    assert medical_costs == {'Marina': {'Age': 27,\n",
    "  'Sex': 'Female',\n",
    "  'BMI': 31.1,\n",
    "  'Children': 2,\n",
    "  'Smoker': 'Non-smoker',\n",
    "  'Insurance_cost': 6607.0},\n",
    " 'Vinay': {'Age': 24,\n",
    "  'Sex': 'Male',\n",
    "  'BMI': 26.9,\n",
    "  'Children': 0,\n",
    "  'Smoker': 'Non-smoker',\n",
    "  'Insurance_cost': 3225.0},\n",
    " 'Connie': {'Age': 43,\n",
    "  'Sex': 'Female',\n",
    "  'BMI': 25.3,\n",
    "  'Children': 3,\n",
    "  'Smoker': 'Non-smoker',\n",
    "  'Insurance_cost': 8886.0},\n",
    " 'Isaac': {'Age': 35,\n",
    "  'Sex': 'Male',\n",
    "  'BMI': 20.6,\n",
    "  'Children': 4,\n",
    "  'Smoker': 'Smoker',\n",
    "  'Insurance_cost': 16444.0},\n",
    " 'Valentina': {'Age': 52,\n",
    "  'Sex': 'Female',\n",
    "  'BMI': 18.7,\n",
    "  'Children': 1,\n",
    "  'Smoker': 'Non-smoker',\n",
    "  'Insurance_cost': 6420.0}}, \"Your dictionary doesn't look right\"\n",
    "    print('Success! 🎉')\n",
    "checker()"
   ]
  },
  {
   "cell_type": "markdown",
   "metadata": {},
   "source": [
    "✨**Task 9**"
   ]
  },
  {
   "cell_type": "markdown",
   "metadata": {},
   "source": [
    "\n",
    "The `medical_costs` dictionary acts like a database of medical records. Let’s access a specific piece of data in `medical_costs`.\n",
    "\n",
    "Access Connie’s insurance cost and store it in a variable called `connie`\n"
   ]
  },
  {
   "cell_type": "code",
   "execution_count": null,
   "metadata": {},
   "outputs": [],
   "source": [
    "#insert your code here"
   ]
  },
  {
   "cell_type": "code",
   "execution_count": null,
   "metadata": {},
   "outputs": [],
   "source": [
    "def checker():\n",
    "    assert connie==8886.0, \"oh oh, try again\"\n",
    "    print('Success! 🎉')\n",
    "checker()"
   ]
  },
  {
   "cell_type": "markdown",
   "metadata": {},
   "source": [
    "***"
   ]
  },
  {
   "cell_type": "markdown",
   "metadata": {},
   "source": [
    "✨**Task 10**"
   ]
  },
  {
   "cell_type": "markdown",
   "metadata": {},
   "source": [
    "Vinay has moved to a new country and we no longer want to include him in our medical costs.\n",
    "\n",
    "Remove Vinay from medical_records."
   ]
  },
  {
   "cell_type": "code",
   "execution_count": null,
   "metadata": {},
   "outputs": [],
   "source": [
    "#insert your code here"
   ]
  },
  {
   "cell_type": "code",
   "execution_count": null,
   "metadata": {},
   "outputs": [],
   "source": [
    "def checker():\n",
    "    vinay = medical_costs.get('Vinay', False)\n",
    "    assert vinay==False, \"vinay is still here! try again\"\n",
    "    print('Success! 🎉')\n",
    "checker()"
   ]
  },
  {
   "cell_type": "code",
   "execution_count": null,
   "metadata": {},
   "outputs": [],
   "source": []
  },
  {
   "cell_type": "markdown",
   "metadata": {},
   "source": [
    "**Well done!\n",
    "You've just used dictionaries, for loops, lists and list comprehensions at the same time to anaylise data. \n",
    "Congratulations!🎉**"
   ]
  },
  {
   "cell_type": "code",
   "execution_count": null,
   "metadata": {},
   "outputs": [],
   "source": []
  }
 ],
 "metadata": {
  "kernelspec": {
   "display_name": "Python 3",
   "language": "python",
   "name": "python3"
  },
  "language_info": {
   "codemirror_mode": {
    "name": "ipython",
    "version": 3
   },
   "file_extension": ".py",
   "mimetype": "text/x-python",
   "name": "python",
   "nbconvert_exporter": "python",
   "pygments_lexer": "ipython3",
   "version": "3.7.3"
  }
 },
 "nbformat": 4,
 "nbformat_minor": 4
}
