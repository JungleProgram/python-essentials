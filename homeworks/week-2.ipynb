{
 "cells": [
  {
   "cell_type": "markdown",
   "metadata": {},
   "source": [
    "## Homework 2 "
   ]
  },
  {
   "cell_type": "markdown",
   "metadata": {},
   "source": [
    "😏\n",
    "**Welcome to homework 2!**\n",
    "\n",
    "We're continuing our journey of analyzing insurance costs data.\n",
    "This time, you have a checker cell for each task. It will tell you whether you did the task correctly or not.\n",
    "Good luck!"
   ]
  },
  {
   "cell_type": "markdown",
   "metadata": {},
   "source": [
    "**Task 1**"
   ]
  },
  {
   "cell_type": "markdown",
   "metadata": {},
   "source": [
    "We have two lists, names and insurance costs.\n",
    "\n",
    "The list `name`s stores the names of ten individuals, and `insurance_costs` stores their medical insurance costs.\n",
    "\n",
    "Let’s add additional data to these lists:\n",
    "\n",
    "Append a new individual, \"Priscilla\", to names.\n",
    "Append her insurance cost, 8320.0, to `insurance_costs`."
   ]
  },
  {
   "cell_type": "code",
   "execution_count": null,
   "metadata": {},
   "outputs": [],
   "source": [
    "names = [\"Mohammed\", \"Sara\", \"Xia\", \"Paul\", \"Valentina\", \"Jide\", \"Aaron\", \"Emily\", \"Nikita\", \"Paul\"]\n",
    "insurance_costs = [13262.0, 48166.0, 6839.0, 5054.0, 14724.0, 5360.0, 7640.0, 6072.0, 2750.0, 12064.0]\n",
    "\n",
    "# Add your code here"
   ]
  },
  {
   "cell_type": "code",
   "execution_count": null,
   "metadata": {},
   "outputs": [],
   "source": [
    "def list_checker():\n",
    "    assert names[-1]==\"Priscilla\", \"Did you add the name 'Priscilla' correctly?\"\n",
    "    assert insurance_costs[-1]==8320.0, \"Did you add the insurance cost correctly?\"\n",
    "    print('Success! 🎉')\n",
    "list_checker()"
   ]
  },
  {
   "cell_type": "markdown",
   "metadata": {},
   "source": [
    "**Task 2** "
   ]
  },
  {
   "cell_type": "markdown",
   "metadata": {},
   "source": [
    "In the previous homework, we manually calculated the estimated insurance cost for each individual. let's create a function which does the same. "
   ]
  },
  {
   "cell_type": "markdown",
   "metadata": {},
   "source": [
    "**The general formula is like this :**"
   ]
  },
  {
   "cell_type": "markdown",
   "metadata": {},
   "source": [
    "$$\n",
    "Insurance Cost=250\\times age−128\\times sex+370\\times bmi+425\\times Num Of Children+24000\\times smoker−12500\n",
    "$$\n"
   ]
  },
  {
   "cell_type": "markdown",
   "metadata": {},
   "source": [
    "age: age of the individual in years\n",
    "***\n",
    "sex: 0 for female, 1 for male\n",
    "***\n",
    "bmi: individual’s body mass index\n",
    "***\n",
    "num_of_children: number of children the individual has\n",
    "***\n",
    "smoker: 0 for a non-smoker, 1 for a smoker"
   ]
  },
  {
   "cell_type": "markdown",
   "metadata": {},
   "source": [
    "- The function takes in 5 inputs : (age, sex, bmi, NumOfChildren, smoker). \n",
    "- The function returns a *float* which is the estimated insurance cost of that person."
   ]
  },
  {
   "cell_type": "code",
   "execution_count": null,
   "metadata": {},
   "outputs": [],
   "source": [
    "def estimated_insurance_cost(age, sex, bmi, NumOfChildren, smoker):\n",
    "    pass\n",
    "    #enter your code here"
   ]
  },
  {
   "cell_type": "code",
   "execution_count": null,
   "metadata": {},
   "outputs": [],
   "source": [
    "def checking_function():\n",
    "    assert estimated_insurance_cost(20, 1,30, 1, 0)==3897, \"hmm your function doesn't seem alright\"\n",
    "    print('Success! 🎉')\n",
    "checking_function()"
   ]
  },
  {
   "cell_type": "markdown",
   "metadata": {},
   "source": [
    "**Task 3**"
   ]
  },
  {
   "cell_type": "markdown",
   "metadata": {},
   "source": [
    "We're gonna create another function!\n",
    "With `estimated_insurance_cost()` function, we cannot input a list! we need to manually input each parameter.\n",
    "- Create a new function called `estimated_insurance()` which takes in **lst** as an input.\n",
    "- The function needs to use list indecies in **lst** and store each element in their respective name. (for example `age = lst[0]`)\n",
    "- The function should return the estimated insurance cost using the parameters and the formula given above"
   ]
  },
  {
   "cell_type": "code",
   "execution_count": null,
   "metadata": {},
   "outputs": [],
   "source": [
    "def estimated_insurance(lst):\n",
    "    pass\n",
    "    #enter your code here"
   ]
  },
  {
   "cell_type": "code",
   "execution_count": null,
   "metadata": {},
   "outputs": [],
   "source": [
    "test = [87, 0, 29, 0, 1]\n",
    "def estimation_checker():\n",
    "    assert estimated_insurance(test)==43980, \"hmm did you store the list indicies correctly?\"\n",
    "    print('Success! 🎉')\n",
    "estimation_checker()"
   ]
  },
  {
   "cell_type": "markdown",
   "metadata": {},
   "source": [
    "**Task 4** "
   ]
  },
  {
   "cell_type": "markdown",
   "metadata": {},
   "source": [
    "Using your `estimated_insurance()` function, loop through each person in the following list and calculate their `estimated insurance cost`, and store it in a new list called `estimatations`."
   ]
  },
  {
   "cell_type": "markdown",
   "metadata": {},
   "source": [
    " 💡*hint* : use a **list comprehension**"
   ]
  },
  {
   "cell_type": "code",
   "execution_count": null,
   "metadata": {},
   "outputs": [],
   "source": [
    "people = [[39, 1, 28, 0, 0], [87, 0, 29, 0, 1], [67, 1, 35, 0, 0]]\n",
    "#insert your code here"
   ]
  },
  {
   "cell_type": "code",
   "execution_count": null,
   "metadata": {},
   "outputs": [],
   "source": [
    "def checker():\n",
    "    assert estimations[0]==7482, \"Your first calculated estimation doesn't seem right!\"\n",
    "    assert estimations[1]==43980,\"Your second calculated estimation doesn't seem right!\"\n",
    "    assert estimations[2]==17072, \"Your third calculated estimation doesn't seem right!\"\n",
    "    print('Success! 🎉')\n",
    "checker()"
   ]
  },
  {
   "cell_type": "markdown",
   "metadata": {},
   "source": [
    "**Task 5**"
   ]
  },
  {
   "cell_type": "markdown",
   "metadata": {},
   "source": [
    "Create a function which takes in a list of `insurance_costs` , and ouputs a new list in which only the insurance costs **below 5000** are included. "
   ]
  },
  {
   "cell_type": "code",
   "execution_count": null,
   "metadata": {},
   "outputs": [],
   "source": [
    "def insurance_range_checker(lst):\n",
    "    new_list = [cost for cost in insrance_costs if cost<5000]\n",
    "#enter your code here"
   ]
  },
  {
   "cell_type": "code",
   "execution_count": null,
   "metadata": {},
   "outputs": [],
   "source": [
    "test = [13262.0, 48166.0, 6839.0, 5054.0, 14724.0, 5360.0, 7640.0, 6072.0, 2750.0, 12064.0]\n",
    "\n",
    "def insurance_range():\n",
    "    assert insurance_range_checker(test)==[2750.0], \"did you place your conditionals correctly?\"\n",
    "    print('Success! 🎉')\n",
    "insurance_range()"
   ]
  },
  {
   "cell_type": "code",
   "execution_count": null,
   "metadata": {},
   "outputs": [],
   "source": []
  }
 ],
 "metadata": {
  "kernelspec": {
   "display_name": "Python 3",
   "language": "python",
   "name": "python3"
  },
  "language_info": {
   "codemirror_mode": {
    "name": "ipython",
    "version": 3
   },
   "file_extension": ".py",
   "mimetype": "text/x-python",
   "name": "python",
   "nbconvert_exporter": "python",
   "pygments_lexer": "ipython3",
   "version": "3.7.3"
  }
 },
 "nbformat": 4,
 "nbformat_minor": 4
}
