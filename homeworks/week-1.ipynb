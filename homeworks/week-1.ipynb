{
 "cells": [
  {
   "cell_type": "markdown",
   "metadata": {},
   "source": [
    "## Homework 1"
   ]
  },
  {
   "cell_type": "markdown",
   "metadata": {},
   "source": [
    "**In this week's homework, we're going to estimate the medical insurance cost for an individual using numpy and lists.**"
   ]
  },
  {
   "cell_type": "markdown",
   "metadata": {},
   "source": [
    "**We can estimate the medical insurance cost for an individual, based on five variables:**\n",
    "\n",
    "age: age of the individual in years\n",
    "***\n",
    "sex: 0 for female, 1 for male\n",
    "***\n",
    "bmi: individual’s body mass index\n",
    "***\n",
    "num_of_children: number of children the individual has\n",
    "***\n",
    "smoker: 0 for a non-smoker, 1 for a smoker"
   ]
  },
  {
   "cell_type": "markdown",
   "metadata": {},
   "source": [
    "**The general formula is like this :**"
   ]
  },
  {
   "cell_type": "markdown",
   "metadata": {},
   "source": [
    "$$\n",
    "Insurance Cost=250\\times age−128\\times sex+370\\times bmi+425\\times Num Of Children+24000\\times smoker−12500\n",
    "$$"
   ]
  },
  {
   "cell_type": "markdown",
   "metadata": {},
   "source": [
    "**Task 1 : Create a list called names and fill it with the names of the individuals you are estimating insurance costs for:**\n",
    "\n",
    "- \"Phill\"\n",
    "- \"Gautier\"\n",
    "- \"Jean\""
   ]
  },
  {
   "cell_type": "code",
   "execution_count": null,
   "metadata": {},
   "outputs": [],
   "source": [
    "#insert your code here"
   ]
  },
  {
   "cell_type": "markdown",
   "metadata": {},
   "source": [
    "**Task 2 : Next, create a list called `insurance_costs` and fill it with the actual amounts that Maria, Rohan, and Valentina paid for insurance:**\n",
    "\n",
    "- 4150.0\n",
    "- 5320.0\n",
    "- 35210.0"
   ]
  },
  {
   "cell_type": "markdown",
   "metadata": {},
   "source": [
    "**Task 3)a : Currently the names and insurance_costs lists are separate, but we want each name to be paired with an insurance cost.**\n",
    "\n",
    "**Create a new variable called `insurance_data` that combines names and insurance_costs using the `zip()` function.**\n",
    "\n",
    "Print this new variable."
   ]
  },
  {
   "cell_type": "code",
   "execution_count": null,
   "metadata": {},
   "outputs": [],
   "source": [
    "#insert your code here"
   ]
  },
  {
   "cell_type": "markdown",
   "metadata": {},
   "source": [
    "The output should look something like: \n",
    "***\n",
    "<zip object at 0x7f1631e86b48>\n",
    "***\n",
    "**Task 3)b : We talked about how we can solve this and output the actual values. Do that in the cell below:** \n",
    "\n",
    "hint : *you should use type conversion*"
   ]
  },
  {
   "cell_type": "code",
   "execution_count": null,
   "metadata": {},
   "outputs": [],
   "source": [
    "#insert your code here"
   ]
  },
  {
   "cell_type": "markdown",
   "metadata": {},
   "source": [
    "**Task 4 :**\n",
    "\n",
    "**Next, create an empty list called estimated_insurance_data.**\n",
    "\n",
    "[This is the list we’ll use to store the estimated insurance costs for our three individuals.]\n",
    "\n",
    "**- Create a numpy array out of `insurance_cost` and call it `insurance_cost_np`**\n",
    "\n",
    "**- Calculate the estimated_insurance_data using the formula shown at the first cell of this notebook, and append it to `estimated_insurance_data` list.**"
   ]
  },
  {
   "cell_type": "code",
   "execution_count": null,
   "metadata": {},
   "outputs": [],
   "source": [
    "#insert your code here"
   ]
  },
  {
   "cell_type": "markdown",
   "metadata": {},
   "source": [
    "**Task 5:**\n",
    "- **Find the maximum of `estimated_insurance_data`**\n",
    "\n",
    "- **Find the index of the maximum value**\n"
   ]
  },
  {
   "cell_type": "code",
   "execution_count": null,
   "metadata": {},
   "outputs": [],
   "source": [
    "#insert your code here"
   ]
  }
 ],
 "metadata": {
  "kernelspec": {
   "display_name": "Python 3",
   "language": "python",
   "name": "python3"
  },
  "language_info": {
   "codemirror_mode": {
    "name": "ipython",
    "version": 3
   },
   "file_extension": ".py",
   "mimetype": "text/x-python",
   "name": "python",
   "nbconvert_exporter": "python",
   "pygments_lexer": "ipython3",
   "version": "3.7.3"
  }
 },
 "nbformat": 4,
 "nbformat_minor": 4
}
